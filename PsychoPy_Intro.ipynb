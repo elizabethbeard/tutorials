{
 "cells": [
  {
   "cell_type": "markdown",
   "metadata": {},
   "source": [
    "# Getting Started with PsychoPy\n",
    "[Psychopy](http://psychopy.org/) is an open-source application for running and presenting experimental stimuli. This tutorial aims to introduce users to the PsychoPy coder and IDE. In this tutorial we'll go over:\n",
    "- Installing PsychoPy\n",
    "- Using the 'Coder' IDE\n",
    "- Coding a basic stroop task\n",
    "- Saving and exporting response data\n",
    "\n",
    "## Why PsychoPy? \n",
    "* It's open-source, so there is fairly extensive documentation and a user community to help solve provlems\n",
    "* You're more familiar with Python or object-oriented programming\n",
    "* It's free (no liscencing or dongles to lose)\n",
    "* Flexible for different learning styles/levels of detail (good for programmers and non-programmers)\n",
    "\n",
    "### Why *not* PsychoPy?\n",
    "* Open-source means lots of versions and inevitable compatibility issues\n",
    "* IDE is not conducive to in-line debugging\n",
    "* You like your current presentation software/tools"
   ]
  },
  {
   "cell_type": "markdown",
   "metadata": {},
   "source": [
    "# Resources\n",
    "One of the things that drew me to PsychoPy (besides a lab that already used it) was the extensive documentation and tutorials that were already available! Below are a few resources that I quickly found via Google as well as those that I've used in the past.\n",
    "- In general, I've found PsychoPy's [Discourse page](https://discourse.psychopy.org/) particiularly helpful\n",
    "\n",
    "### Builder View ####\n",
    "While this tutorial doesn't go over the Builder View, it's a GUI system that works well for quick learning and simple experimental designs. There's a LOT of documetation out there for help using the Builder View. Here are just a few:\n",
    "- [From PsychoPy](http://www.psychopy.org/builder/builder.html)\n",
    "- [And as a YouTube Video](https://www.youtube.com/watch?v=VV6qhuQgsiI)\n",
    "\n",
    "### Coder View ####\n",
    "- PsychoPy's [API](http://psychopy.org/api/api.html) is quite thorough, and good for going through all of the different settings for a given module\n",
    "- This [tutorial](https://www.socsci.ru.nl/wilberth/nocms/psychopy/print.php) and this [workshop](https://lindeloev.net/psychopy-course/) that goes over some programming skills as well\n",
    "- If reading chapters are your thing, [PsychoPy Is Fun!](https://link.springer.com/content/pdf/10.1007%2F978-3-319-64066-2_3.pdf)\n"
   ]
  },
  {
   "cell_type": "markdown",
   "metadata": {},
   "source": [
    "# Installing PsychoPy\n",
    "Because this tutorial uses a previous version of PsychoPy, if you want to follow along and not run into potential snags, be sure to download [version 1.90.3](https://github.com/psychopy/psychopy/releases/tag/1.90.3). PsychoPy has a number of ways to install the software, many of which are listed [here](http://psychopy.org/download.html#download) if you want to try and use the newer version. "
   ]
  },
  {
   "cell_type": "markdown",
   "metadata": {},
   "source": [
    "# The Coder View\n",
    "\n",
    "PsychoPy's coder view is an rough-around-the-eduges IDE where you'll create and run your experiment scripts. There are a few important components:\n",
    "\n",
    "![header](misc/psychopy1.png)\n",
    "\n",
    "Here, the most important buttons you will use are the green 'go' button and the red 'stop' button. These will start and stop your script. Other useful tools on the header include the new/save files (first two buttons on the left) and the monitor center (the button with two monitors).\n",
    "\n",
    "![footer](misc/psychopy2.png)\n",
    "\n",
    "At the bottom of our IDE there are two important windows:\n",
    "- The output window will display any information automatically returned from your script, as well as error information when your code breaks. When I'm developing a task, I'll often return objects that I need my script to create so that I can check that everything is working the way I think it does.\n",
    "- The shell is a shell where you can run single lines of code. \n",
    "\n",
    "*Note*: If you want to run your experiment from the commandline, follow [these steps](https://github.com/lupyanlab/lab-computer/wiki/Install-psychopy-on-Anaconda-python)"
   ]
  },
  {
   "cell_type": "markdown",
   "metadata": {},
   "source": [
    "# Setting Up Your Task\n",
    "\n",
    "For this tutorial, we will build a very basic stroop task with the following conditions:\n",
    "- Congruent/Incongruent\n",
    "- 3 colors: Red, Blue, Green\n",
    "- repeated 3 times for a total of 18 trials\n",
    "\n",
    "The first thing we'll do is load in the python modules we'll be using:"
   ]
  },
  {
   "cell_type": "code",
   "execution_count": 1,
   "metadata": {},
   "outputs": [],
   "source": [
    "from psychopy import data, event, visual, core\n",
    "import os\n",
    "import csv\n",
    "import random"
   ]
  },
  {
   "cell_type": "markdown",
   "metadata": {},
   "source": [
    "Next, we'll set up some parameters that we'll use later on in the experiment file."
   ]
  },
  {
   "cell_type": "code",
   "execution_count": 2,
   "metadata": {},
   "outputs": [],
   "source": [
    "# set our relative path\n",
    "pwd = os.getcwd()\n",
    "\n",
    "# timing parameters\n",
    "display_time = 3\n",
    "feedback_time = .5\n",
    "fix_time = 1\n",
    "\n",
    "timer = core.Clock()\n",
    "globalClock = core.Clock()\n",
    "\n",
    "# response keys\n",
    "resp = ['1','2']"
   ]
  },
  {
   "cell_type": "markdown",
   "metadata": {},
   "source": [
    "## Windows\n",
    "\n",
    "To quote this [PsychoPy Tutorial](https://www.psychopy.org/coder/tutorial1.html):\n",
    "> \"Building stimuli is extremely easy. All you need to do is create a Window, then some stimuli. Draw those stimuli, then update the window.\"\n",
    "\n",
    "It's important to note that PsychoPy was originally built for vision research, so some of the specific parameters for displaying visual information is beyond what we'll generally need."
   ]
  },
  {
   "cell_type": "code",
   "execution_count": 3,
   "metadata": {},
   "outputs": [],
   "source": [
    "# window setup\n",
    "win = visual.Window([800,600], monitor='testMonitor', units='deg', fullscr=False,\n",
    "                   allowGUI=False, screen=0)\n",
    "\n",
    "win.close() # this is here bc i'm running psychopy in a notebook, you won't need this in the IDE"
   ]
  },
  {
   "cell_type": "markdown",
   "metadata": {},
   "source": [
    "Now we'll add some additional stimuli. Can you see anything that seems to be missing from the stim?"
   ]
  },
  {
   "cell_type": "code",
   "execution_count": 4,
   "metadata": {},
   "outputs": [],
   "source": [
    "# visual stim setup\n",
    "colors = ['red','green','blue']\n",
    "\n",
    "word = visual.TextStim(win, height=1, alignHoriz='center', alignVert='center')\n",
    "fixation = visual.TextStim(win, text=\"+\", height=2)"
   ]
  },
  {
   "cell_type": "markdown",
   "metadata": {},
   "source": [
    "## The Trial Handler\n",
    "The trial handler is how we're going to change trial-level data from trial to trial. This is probably the biggest benefit to PsychoPy. "
   ]
  },
  {
   "cell_type": "code",
   "execution_count": 5,
   "metadata": {},
   "outputs": [],
   "source": [
    "# setting up the trial handler\n",
    "\n",
    "# first we'll read in our stim file\n",
    "trial_data = [r for r in csv.DictReader(open('%s/misc/PsychoPy_Intro-stim.csv' % pwd, 'rU'))]\n",
    "\n",
    "# we want 12 trials, so we'll repeat the process twice\n",
    "# if you pre-randomize your data, you would change the method to 'sequential'\n",
    "trials = data.TrialHandler(trial_data, nReps=3, method=\"random\") "
   ]
  },
  {
   "cell_type": "markdown",
   "metadata": {},
   "source": [
    "## A brief sidebar on timing\n",
    "\n",
    "If you noticed above, we initialized two separate 'clocks' to keep track of timing within our experiment. There are a lot of different ways to think about timing in your experiment, but I generally keep two separate clocks:\n",
    "- a timer for shorter, within trial time management\n",
    "- a 'global clock' for time management across a run/task\n",
    "\n",
    "# The Task Loop\n",
    "\n",
    "Let's write our task! Because each trial looks more or less the same, we'll essentially create a loop that takes the information from the trialHandler to create our trial structure. There are some important features to note:\n",
    "- `trials.addData('variable name', variable)` adds a column of data to your log file and will record your variable of interest\n",
    "- `word.setText('text')` changes the text for a given trial\n",
    "- `timer.getTime()` will check the time of your clock object\n",
    "- `event.getKeys()` allows you to log subject responses! you can time stamp them with this function or separately\n",
    "\n",
    "I'd recommend checking out [the API](http://www.psychopy.org/api/api.html) for more info on what parameters each of these functions requires."
   ]
  },
  {
   "cell_type": "code",
   "execution_count": null,
   "metadata": {},
   "outputs": [],
   "source": [
    "# this will be the FIRST AND ONLY TIME YOU RESET THE GLOBAL CLOCK\n",
    "globalClock.reset()\n",
    "\n",
    "# create a task start variable so we can calculate RT\n",
    "task_onset = globalClock.getTime()\n",
    "\n",
    "for trial in trials:\n",
    "    # let's clear any events that were stored from the previous trial\n",
    "    event.clearEvents()\n",
    "    \n",
    "    # first we need to set the text!\n",
    "    word.setText(trial['color'])\n",
    "    \n",
    "    # now we'll set the color \n",
    "    if trial['congruent'] == 'Y':\n",
    "        color = trial['color']\n",
    "        word.setColor(color)\n",
    "    else:\n",
    "        # let's randomly select an 'incongruent' color\n",
    "        random.shuffle(colors)\n",
    "        \n",
    "        # if they shuffle accidentally matches, we'll take the next one\n",
    "        if colors[0] == trial['color']:\n",
    "            color = colors[1]\n",
    "        else:\n",
    "            color = colors[0]\n",
    "            \n",
    "        word.setColor(color)\n",
    "    \n",
    "    # let's record in our data what 'color' was selected\n",
    "    trials.addData('text_color', color)\n",
    "    \n",
    "    # let's show people some data and wait for their response!\n",
    "    \n",
    "    # always be sure to reset your timer!\n",
    "    \n",
    "    timer.reset()\n",
    "    \n",
    "    while timer.getTime() < display_time:\n",
    "        word.draw()\n",
    "        win.flip()\n",
    "        response = event.getKeys(keyList = resp, timeStamped = globalClock)\n",
    "        \n",
    "        # if there's a response, let's keep the screen online for .5 more seconds\n",
    "        if len(response) > 0: \n",
    "            resp_val = int(response[0][0])\n",
    "            rt_onset = response[0][1]\n",
    "            rt = rt_onset - task_onset\n",
    "            \n",
    "            core.wait(feedback_time)\n",
    "            break\n",
    "        \n",
    "        else: #if the subject doesn't respond\n",
    "            resp_val = 'NA'\n",
    "            rt_onset = 'NA'\n",
    "            rt = 'NA'\n",
    "            \n",
    "    \n",
    "    # now let's add record the data we collected\n",
    "    trials.addData('resp', resp_val)\n",
    "    trials.addData('rt', rt)\n",
    "    \n",
    "    # let's display a fixation between trials\n",
    "    \n",
    "    # first we have to reset the timer\n",
    "    timer.reset()\n",
    "    \n",
    "    while timer.getTime() < fix_time:\n",
    "        fixation.draw()\n",
    "        win.flip()"
   ]
  },
  {
   "cell_type": "markdown",
   "metadata": {},
   "source": [
    "## let's save our data\n",
    "The last thing we'll do is write out or data. Because this is a toy example, we're just going to save a file with a different name than the stim file, but in the future you would want to save it to a subject log file."
   ]
  },
  {
   "cell_type": "code",
   "execution_count": null,
   "metadata": {},
   "outputs": [],
   "source": [
    "# let's save out the data\n",
    "trials.saveAsWideText('%s/misc/task_data.csv' % pwd, delim = ',', appendFile=True)"
   ]
  },
  {
   "cell_type": "markdown",
   "metadata": {},
   "source": [
    "# Thanks!\n",
    "If you're interested in learning more about PsychoPy, don't hestitate to reach out! Also, there are task examples that have been used to collect data on [my GitHub](https://github.com/elizabethbeard/tasks) if you'd like to see some of the additional steps to collect subject-level data."
   ]
  },
  {
   "cell_type": "code",
   "execution_count": null,
   "metadata": {},
   "outputs": [],
   "source": []
  }
 ],
 "metadata": {
  "kernelspec": {
   "display_name": "Python 2",
   "language": "python",
   "name": "python2"
  },
  "language_info": {
   "codemirror_mode": {
    "name": "ipython",
    "version": 2
   },
   "file_extension": ".py",
   "mimetype": "text/x-python",
   "name": "python",
   "nbconvert_exporter": "python",
   "pygments_lexer": "ipython2",
   "version": "2.7.16"
  },
  "varInspector": {
   "cols": {
    "lenName": 16,
    "lenType": 16,
    "lenVar": 40
   },
   "kernels_config": {
    "python": {
     "delete_cmd_postfix": "",
     "delete_cmd_prefix": "del ",
     "library": "var_list.py",
     "varRefreshCmd": "print(var_dic_list())"
    },
    "r": {
     "delete_cmd_postfix": ") ",
     "delete_cmd_prefix": "rm(",
     "library": "var_list.r",
     "varRefreshCmd": "cat(var_dic_list()) "
    }
   },
   "types_to_exclude": [
    "module",
    "function",
    "builtin_function_or_method",
    "instance",
    "_Feature"
   ],
   "window_display": false
  }
 },
 "nbformat": 4,
 "nbformat_minor": 2
}
